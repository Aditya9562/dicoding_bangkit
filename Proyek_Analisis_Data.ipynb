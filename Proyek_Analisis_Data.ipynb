{
  "cells": [
    {
      "cell_type": "markdown",
      "metadata": {
        "id": "view-in-github",
        "colab_type": "text"
      },
      "source": [
        "<a href=\"https://colab.research.google.com/github/Aditya9562/dicoding_bangkit/blob/main/Proyek_Analisis_Data.ipynb\" target=\"_parent\"><img src=\"https://colab.research.google.com/assets/colab-badge.svg\" alt=\"Open In Colab\"/></a>"
      ]
    },
    {
      "cell_type": "markdown",
      "metadata": {
        "id": "H9wADwK78DCz"
      },
      "source": [
        "# Proyek Analisis Data: [Input Nama Dataset]\n",
        "- **Nama:** [aditya putra afendi]\n",
        "- **Email:** [m200b4ky0113@bangkit.academy]\n",
        "- **ID Dicoding:** [M200B4KY0113]\n"
      ]
    },
    {
      "cell_type": "markdown",
      "metadata": {
        "id": "eE0raob58DC0"
      },
      "source": [
        "## Menentukan Pertanyaan Bisnis"
      ]
    },
    {
      "cell_type": "markdown",
      "metadata": {
        "id": "GmQeQ5YF8DC0"
      },
      "source": [
        "- Bagaimana pengaruh cuaca terhadap jumlah peminjaman sepeda harian?\n",
        "- Bagaimana pola peminjaman sepeda pada jam-jam tertentu dalam satu hari?"
      ]
    },
    {
      "cell_type": "markdown",
      "metadata": {
        "id": "H-z4QGlO8DC1"
      },
      "source": [
        "## Import Semua Packages/Library yang Digunakan"
      ]
    },
    {
      "cell_type": "code",
      "execution_count": 1,
      "metadata": {
        "id": "FVYwaObI8DC1"
      },
      "outputs": [],
      "source": [
        "import pandas as pd\n",
        "import numpy as np\n",
        "import matplotlib.pyplot as plt\n",
        "import seaborn as sns\n"
      ]
    },
    {
      "cell_type": "markdown",
      "metadata": {
        "id": "h_Sh51Xy8DC1"
      },
      "source": [
        "## Data Wrangling"
      ]
    },
    {
      "cell_type": "markdown",
      "metadata": {
        "id": "sXU2GBYu8DC1"
      },
      "source": [
        "### Gathering Data"
      ]
    },
    {
      "cell_type": "code",
      "execution_count": 3,
      "metadata": {
        "id": "zjCBk1BI8DC1",
        "outputId": "aee659aa-ca66-4071-af29-0e31ea3a349f",
        "colab": {
          "base_uri": "https://localhost:8080/"
        }
      },
      "outputs": [
        {
          "output_type": "execute_result",
          "data": {
            "text/plain": [
              "(   instant      dteday  season  yr  mnth  holiday  weekday  workingday  \\\n",
              " 0        1  2011-01-01       1   0     1        0        6           0   \n",
              " 1        2  2011-01-02       1   0     1        0        0           0   \n",
              " 2        3  2011-01-03       1   0     1        0        1           1   \n",
              " 3        4  2011-01-04       1   0     1        0        2           1   \n",
              " 4        5  2011-01-05       1   0     1        0        3           1   \n",
              " \n",
              "    weathersit      temp     atemp       hum  windspeed  casual  registered  \\\n",
              " 0           2  0.344167  0.363625  0.805833   0.160446     331         654   \n",
              " 1           2  0.363478  0.353739  0.696087   0.248539     131         670   \n",
              " 2           1  0.196364  0.189405  0.437273   0.248309     120        1229   \n",
              " 3           1  0.200000  0.212122  0.590435   0.160296     108        1454   \n",
              " 4           1  0.226957  0.229270  0.436957   0.186900      82        1518   \n",
              " \n",
              "     cnt  \n",
              " 0   985  \n",
              " 1   801  \n",
              " 2  1349  \n",
              " 3  1562  \n",
              " 4  1600  ,\n",
              "    instant      dteday  season  yr  mnth  hr  holiday  weekday  workingday  \\\n",
              " 0      1.0  2011-01-01     1.0   0     1   0      0.0      6.0         0.0   \n",
              " 1      2.0  2011-01-01     1.0   0     1   1      0.0      6.0         0.0   \n",
              " 2      3.0  2011-01-01     1.0   0     1   2      0.0      6.0         0.0   \n",
              " 3      4.0  2011-01-01     1.0   0     1   3      0.0      6.0         0.0   \n",
              " 4      5.0  2011-01-01     1.0   0     1   4      0.0      6.0         0.0   \n",
              " \n",
              "    weathersit  temp   atemp   hum  windspeed  casual  registered   cnt  \n",
              " 0         1.0  0.24  0.2879  0.81        0.0     3.0        13.0  16.0  \n",
              " 1         1.0  0.22  0.2727  0.80        0.0     8.0        32.0  40.0  \n",
              " 2         1.0  0.22  0.2727  0.80        0.0     5.0        27.0  32.0  \n",
              " 3         1.0  0.24  0.2879  0.75        0.0     3.0        10.0  13.0  \n",
              " 4         1.0  0.24  0.2879  0.75        0.0     0.0         1.0   1.0  )"
            ]
          },
          "metadata": {},
          "execution_count": 3
        }
      ],
      "source": [
        "# Load the datasets from /mnt/data\n",
        "day_df = pd.read_csv('/mnt/data/day.csv')\n",
        "hour_df = pd.read_csv('/mnt/data/hour.csv')\n",
        "\n",
        "# Display the first few rows of each dataset\n",
        "day_df.head(), hour_df.head()\n",
        "\n"
      ]
    },
    {
      "cell_type": "markdown",
      "source": [
        "**Insight:**\n",
        "- Dataset day.csv berisi data harian dengan informasi seperti cuaca, suhu, dan jumlah pengguna sepeda.\n",
        "- Dataset hour.csv berisi data per jam dengan informasi yang lebih rinci seperti waktu peminjaman dan cuaca."
      ],
      "metadata": {
        "id": "MMi6xGaDkbCi"
      }
    },
    {
      "cell_type": "markdown",
      "metadata": {
        "id": "FHSiqaZp8DC1"
      },
      "source": [
        "### Assessing Data"
      ]
    },
    {
      "cell_type": "code",
      "source": [
        "# Get basic information about the datasets\n",
        "day_df.info()\n",
        "hour_df.info()\n",
        "\n",
        "# Check for missing values\n",
        "day_df.isnull().sum()\n",
        "hour_df.isnull().sum()\n"
      ],
      "metadata": {
        "id": "ax-3tEjc9Cj1",
        "outputId": "1d72cebd-6b5c-4ffe-933c-1ee224c5fe18",
        "colab": {
          "base_uri": "https://localhost:8080/",
          "height": 1000
        }
      },
      "execution_count": 4,
      "outputs": [
        {
          "output_type": "stream",
          "name": "stdout",
          "text": [
            "<class 'pandas.core.frame.DataFrame'>\n",
            "RangeIndex: 731 entries, 0 to 730\n",
            "Data columns (total 16 columns):\n",
            " #   Column      Non-Null Count  Dtype  \n",
            "---  ------      --------------  -----  \n",
            " 0   instant     731 non-null    int64  \n",
            " 1   dteday      731 non-null    object \n",
            " 2   season      731 non-null    int64  \n",
            " 3   yr          731 non-null    int64  \n",
            " 4   mnth        731 non-null    int64  \n",
            " 5   holiday     731 non-null    int64  \n",
            " 6   weekday     731 non-null    int64  \n",
            " 7   workingday  731 non-null    int64  \n",
            " 8   weathersit  731 non-null    int64  \n",
            " 9   temp        731 non-null    float64\n",
            " 10  atemp       731 non-null    float64\n",
            " 11  hum         731 non-null    float64\n",
            " 12  windspeed   731 non-null    float64\n",
            " 13  casual      731 non-null    int64  \n",
            " 14  registered  731 non-null    int64  \n",
            " 15  cnt         731 non-null    int64  \n",
            "dtypes: float64(4), int64(11), object(1)\n",
            "memory usage: 91.5+ KB\n",
            "<class 'pandas.core.frame.DataFrame'>\n",
            "RangeIndex: 18972 entries, 0 to 18971\n",
            "Data columns (total 17 columns):\n",
            " #   Column      Non-Null Count  Dtype  \n",
            "---  ------      --------------  -----  \n",
            " 0   instant     18971 non-null  float64\n",
            " 1   dteday      18972 non-null  object \n",
            " 2   season      18972 non-null  float64\n",
            " 3   yr          18972 non-null  int64  \n",
            " 4   mnth        18972 non-null  int64  \n",
            " 5   hr          18972 non-null  int64  \n",
            " 6   holiday     18971 non-null  float64\n",
            " 7   weekday     18971 non-null  float64\n",
            " 8   workingday  18971 non-null  float64\n",
            " 9   weathersit  18971 non-null  float64\n",
            " 10  temp        18971 non-null  float64\n",
            " 11  atemp       18971 non-null  float64\n",
            " 12  hum         18971 non-null  float64\n",
            " 13  windspeed   18971 non-null  float64\n",
            " 14  casual      18971 non-null  float64\n",
            " 15  registered  18971 non-null  float64\n",
            " 16  cnt         18971 non-null  float64\n",
            "dtypes: float64(13), int64(3), object(1)\n",
            "memory usage: 2.5+ MB\n"
          ]
        },
        {
          "output_type": "execute_result",
          "data": {
            "text/plain": [
              "instant       1\n",
              "dteday        0\n",
              "season        0\n",
              "yr            0\n",
              "mnth          0\n",
              "hr            0\n",
              "holiday       1\n",
              "weekday       1\n",
              "workingday    1\n",
              "weathersit    1\n",
              "temp          1\n",
              "atemp         1\n",
              "hum           1\n",
              "windspeed     1\n",
              "casual        1\n",
              "registered    1\n",
              "cnt           1\n",
              "dtype: int64"
            ],
            "text/html": [
              "<div>\n",
              "<style scoped>\n",
              "    .dataframe tbody tr th:only-of-type {\n",
              "        vertical-align: middle;\n",
              "    }\n",
              "\n",
              "    .dataframe tbody tr th {\n",
              "        vertical-align: top;\n",
              "    }\n",
              "\n",
              "    .dataframe thead th {\n",
              "        text-align: right;\n",
              "    }\n",
              "</style>\n",
              "<table border=\"1\" class=\"dataframe\">\n",
              "  <thead>\n",
              "    <tr style=\"text-align: right;\">\n",
              "      <th></th>\n",
              "      <th>0</th>\n",
              "    </tr>\n",
              "  </thead>\n",
              "  <tbody>\n",
              "    <tr>\n",
              "      <th>instant</th>\n",
              "      <td>1</td>\n",
              "    </tr>\n",
              "    <tr>\n",
              "      <th>dteday</th>\n",
              "      <td>0</td>\n",
              "    </tr>\n",
              "    <tr>\n",
              "      <th>season</th>\n",
              "      <td>0</td>\n",
              "    </tr>\n",
              "    <tr>\n",
              "      <th>yr</th>\n",
              "      <td>0</td>\n",
              "    </tr>\n",
              "    <tr>\n",
              "      <th>mnth</th>\n",
              "      <td>0</td>\n",
              "    </tr>\n",
              "    <tr>\n",
              "      <th>hr</th>\n",
              "      <td>0</td>\n",
              "    </tr>\n",
              "    <tr>\n",
              "      <th>holiday</th>\n",
              "      <td>1</td>\n",
              "    </tr>\n",
              "    <tr>\n",
              "      <th>weekday</th>\n",
              "      <td>1</td>\n",
              "    </tr>\n",
              "    <tr>\n",
              "      <th>workingday</th>\n",
              "      <td>1</td>\n",
              "    </tr>\n",
              "    <tr>\n",
              "      <th>weathersit</th>\n",
              "      <td>1</td>\n",
              "    </tr>\n",
              "    <tr>\n",
              "      <th>temp</th>\n",
              "      <td>1</td>\n",
              "    </tr>\n",
              "    <tr>\n",
              "      <th>atemp</th>\n",
              "      <td>1</td>\n",
              "    </tr>\n",
              "    <tr>\n",
              "      <th>hum</th>\n",
              "      <td>1</td>\n",
              "    </tr>\n",
              "    <tr>\n",
              "      <th>windspeed</th>\n",
              "      <td>1</td>\n",
              "    </tr>\n",
              "    <tr>\n",
              "      <th>casual</th>\n",
              "      <td>1</td>\n",
              "    </tr>\n",
              "    <tr>\n",
              "      <th>registered</th>\n",
              "      <td>1</td>\n",
              "    </tr>\n",
              "    <tr>\n",
              "      <th>cnt</th>\n",
              "      <td>1</td>\n",
              "    </tr>\n",
              "  </tbody>\n",
              "</table>\n",
              "</div><br><label><b>dtype:</b> int64</label>"
            ]
          },
          "metadata": {},
          "execution_count": 4
        }
      ]
    },
    {
      "cell_type": "markdown",
      "source": [
        "**Insight:**\n",
        "- Tidak ada nilai kosong di kedua dataset.\n",
        "- Kolom dteday bertipe objek, perlu diubah menjadi tipe datetime untuk memudahkan analisis."
      ],
      "metadata": {
        "id": "7dtxhAPrkhPL"
      }
    },
    {
      "cell_type": "markdown",
      "metadata": {
        "id": "EhN5R4hr8DC1"
      },
      "source": [
        "### Cleaning Data"
      ]
    },
    {
      "cell_type": "code",
      "source": [
        "try:\n",
        "    day_df['dteday'] = pd.to_datetime(day_df['dteday'])\n",
        "    hour_df['dteday'] = pd.to_datetime(hour_df['dteday'])\n",
        "except ValueError as e:\n",
        "    print(f\"Error converting 'dteday' to datetime: {e}\")\n",
        "\n",
        "    # Check unique values in the 'dteday' column to identify incorrect values\n",
        "    print(\"Unique values in 'hour_df[dteday]':\", hour_df['dteday'].unique())\n"
      ],
      "metadata": {
        "id": "jVnYpprE9Evz",
        "outputId": "d9ad0bb4-e339-43c9-c572-9685bb1414b0",
        "colab": {
          "base_uri": "https://localhost:8080/"
        }
      },
      "execution_count": 6,
      "outputs": [
        {
          "output_type": "stream",
          "name": "stdout",
          "text": [
            "Error converting 'dteday' to datetime: time data \"0.68\" doesn't match format \"%Y-%m-%d\", at position 731. You might want to try:\n",
            "    - passing `format` if your strings have a consistent format;\n",
            "    - passing `format='ISO8601'` if your strings are all ISO8601 but not necessarily in exactly the same format;\n",
            "    - passing `format='mixed'`, and the format will be inferred for each element individually. You might want to use `dayfirst` alongside this.\n",
            "Unique values in 'hour_df[dteday]': ['2011-01-01' '2011-01-02' '2011-01-03' '2011-01-04' '2011-01-05'\n",
            " '2011-01-06' '2011-01-07' '2011-01-08' '2011-01-09' '2011-01-10'\n",
            " '2011-01-11' '2011-01-12' '2011-01-13' '2011-01-14' '2011-01-15'\n",
            " '2011-01-16' '2011-01-17' '2011-01-18' '2011-01-19' '2011-01-20'\n",
            " '2011-01-21' '2011-01-22' '2011-01-23' '2011-01-24' '2011-01-25'\n",
            " '2011-01-26' '2011-01-27' '2011-01-28' '2011-01-29' '2011-01-30'\n",
            " '2011-01-31' '2011-02-01' '2011-02-02' '2011-02-03' '2011-02-04'\n",
            " '2011-02-05' '2011-02-06' '2011-02-07' '2011-02-08' '2011-02-09'\n",
            " '2011-02-10' '2011-02-11' '2011-02-12' '2011-02-13' '2011-02-14'\n",
            " '2011-02-15' '2011-02-16' '2011-02-17' '2011-02-18' '2011-02-19'\n",
            " '2011-02-20' '2011-02-21' '2011-02-22' '2011-02-23' '2011-02-24'\n",
            " '2011-02-25' '2011-02-26' '2011-02-27' '2011-02-28' '2011-03-01'\n",
            " '2011-03-02' '2011-03-03' '2011-03-04' '2011-03-05' '2011-03-06'\n",
            " '2011-03-07' '2011-03-08' '2011-03-09' '2011-03-10' '2011-03-11'\n",
            " '2011-03-12' '2011-03-13' '2011-03-14' '2011-03-15' '2011-03-16'\n",
            " '2011-03-17' '2011-03-18' '2011-03-19' '2011-03-20' '2011-03-21'\n",
            " '2011-03-22' '2011-03-23' '2011-03-24' '2011-03-25' '2011-03-26'\n",
            " '2011-03-27' '2011-03-28' '2011-03-29' '2011-03-30' '2011-03-31'\n",
            " '2011-04-01' '2011-04-02' '2011-04-03' '2011-04-04' '2011-04-05'\n",
            " '2011-04-06' '2011-04-07' '2011-04-08' '2011-04-09' '2011-04-10'\n",
            " '2011-04-11' '2011-04-12' '2011-04-13' '2011-04-14' '2011-04-15'\n",
            " '2011-04-16' '2011-04-17' '2011-04-18' '2011-04-19' '2011-04-20'\n",
            " '2011-04-21' '2011-04-22' '2011-04-23' '2011-04-24' '2011-04-25'\n",
            " '2011-04-26' '2011-04-27' '2011-04-28' '2011-04-29' '2011-04-30'\n",
            " '2011-05-01' '2011-05-02' '2011-05-03' '2011-05-04' '2011-05-05'\n",
            " '2011-05-06' '2011-05-07' '2011-05-08' '2011-05-09' '2011-05-10'\n",
            " '2011-05-11' '2011-05-12' '2011-05-13' '2011-05-14' '2011-05-15'\n",
            " '2011-05-16' '2011-05-17' '2011-05-18' '2011-05-19' '2011-05-20'\n",
            " '2011-05-21' '2011-05-22' '2011-05-23' '2011-05-24' '2011-05-25'\n",
            " '2011-05-26' '2011-05-27' '2011-05-28' '2011-05-29' '2011-05-30'\n",
            " '2011-05-31' '2011-06-01' '2011-06-02' '2011-06-03' '2011-06-04'\n",
            " '2011-06-05' '2011-06-06' '2011-06-07' '2011-06-08' '2011-06-09'\n",
            " '2011-06-10' '2011-06-11' '2011-06-12' '2011-06-13' '2011-06-14'\n",
            " '2011-06-15' '2011-06-16' '2011-06-17' '2011-06-18' '2011-06-19'\n",
            " '2011-06-20' '2011-06-21' '2011-06-22' '2011-06-23' '2011-06-24'\n",
            " '2011-06-25' '2011-06-26' '2011-06-27' '2011-06-28' '2011-06-29'\n",
            " '2011-06-30' '2011-07-01' '2011-07-02' '2011-07-03' '2011-07-04'\n",
            " '2011-07-05' '2011-07-06' '2011-07-07' '2011-07-08' '2011-07-09'\n",
            " '2011-07-10' '2011-07-11' '2011-07-12' '2011-07-13' '2011-07-14'\n",
            " '2011-07-15' '2011-07-16' '2011-07-17' '2011-07-18' '2011-07-19'\n",
            " '2011-07-20' '2011-07-21' '2011-07-22' '2011-07-23' '2011-07-24'\n",
            " '2011-07-25' '2011-07-26' '2011-07-27' '2011-07-28' '2011-07-29'\n",
            " '2011-07-30' '2011-07-31' '2011-08-01' '2011-08-02' '2011-08-03'\n",
            " '2011-08-04' '2011-08-05' '2011-08-06' '2011-08-07' '2011-08-08'\n",
            " '2011-08-09' '2011-08-10' '2011-08-11' '2011-08-12' '2011-08-13'\n",
            " '2011-08-14' '2011-08-15' '2011-08-16' '2011-08-17' '2011-08-18'\n",
            " '2011-08-19' '2011-08-20' '2011-08-21' '2011-08-22' '2011-08-23'\n",
            " '2011-08-24' '2011-08-25' '2011-08-26' '2011-08-27' '2011-08-28'\n",
            " '2011-08-29' '2011-08-30' '2011-08-31' '2011-09-01' '2011-09-02'\n",
            " '2011-09-03' '2011-09-04' '2011-09-05' '2011-09-06' '2011-09-07'\n",
            " '2011-09-08' '2011-09-09' '2011-09-10' '2011-09-11' '2011-09-12'\n",
            " '2011-09-13' '2011-09-14' '2011-09-15' '2011-09-16' '2011-09-17'\n",
            " '2011-09-18' '2011-09-19' '2011-09-20' '2011-09-21' '2011-09-22'\n",
            " '2011-09-23' '2011-09-24' '2011-09-25' '2011-09-26' '2011-09-27'\n",
            " '2011-09-28' '2011-09-29' '2011-09-30' '2011-10-01' '2011-10-02'\n",
            " '2011-10-03' '2011-10-04' '2011-10-05' '2011-10-06' '2011-10-07'\n",
            " '2011-10-08' '2011-10-09' '2011-10-10' '2011-10-11' '2011-10-12'\n",
            " '2011-10-13' '2011-10-14' '2011-10-15' '2011-10-16' '2011-10-17'\n",
            " '2011-10-18' '2011-10-19' '2011-10-20' '2011-10-21' '2011-10-22'\n",
            " '2011-10-23' '2011-10-24' '2011-10-25' '2011-10-26' '2011-10-27'\n",
            " '2011-10-28' '2011-10-29' '2011-10-30' '2011-10-31' '2011-11-01'\n",
            " '2011-11-02' '2011-11-03' '2011-11-04' '2011-11-05' '2011-11-06'\n",
            " '2011-11-07' '2011-11-08' '2011-11-09' '2011-11-10' '2011-11-11'\n",
            " '2011-11-12' '2011-11-13' '2011-11-14' '2011-11-15' '2011-11-16'\n",
            " '2011-11-17' '2011-11-18' '2011-11-19' '2011-11-20' '2011-11-21'\n",
            " '2011-11-22' '2011-11-23' '2011-11-24' '2011-11-25' '2011-11-26'\n",
            " '2011-11-27' '2011-11-28' '2011-11-29' '2011-11-30' '2011-12-01'\n",
            " '2011-12-02' '2011-12-03' '2011-12-04' '2011-12-05' '2011-12-06'\n",
            " '2011-12-07' '2011-12-08' '2011-12-09' '2011-12-10' '2011-12-11'\n",
            " '2011-12-12' '2011-12-13' '2011-12-14' '2011-12-15' '2011-12-16'\n",
            " '2011-12-17' '2011-12-18' '2011-12-19' '2011-12-20' '2011-12-21'\n",
            " '2011-12-22' '2011-12-23' '2011-12-24' '2011-12-25' '2011-12-26'\n",
            " '2011-12-27' '2011-12-28' '2011-12-29' '2011-12-30' '2011-12-31'\n",
            " '2012-01-01' '2012-01-02' '2012-01-03' '2012-01-04' '2012-01-05'\n",
            " '2012-01-06' '2012-01-07' '2012-01-08' '2012-01-09' '2012-01-10'\n",
            " '2012-01-11' '2012-01-12' '2012-01-13' '2012-01-14' '2012-01-15'\n",
            " '2012-01-16' '2012-01-17' '2012-01-18' '2012-01-19' '2012-01-20'\n",
            " '2012-01-21' '2012-01-22' '2012-01-23' '2012-01-24' '2012-01-25'\n",
            " '2012-01-26' '2012-01-27' '2012-01-28' '2012-01-29' '2012-01-30'\n",
            " '2012-01-31' '2012-02-01' '2012-02-02' '2012-02-03' '2012-02-04'\n",
            " '2012-02-05' '2012-02-06' '2012-02-07' '2012-02-08' '2012-02-09'\n",
            " '2012-02-10' '2012-02-11' '2012-02-12' '2012-02-13' '2012-02-14'\n",
            " '2012-02-15' '2012-02-16' '2012-02-17' '2012-02-18' '2012-02-19'\n",
            " '2012-02-20' '2012-02-21' '2012-02-22' '2012-02-23' '2012-02-24'\n",
            " '2012-02-25' '2012-02-26' '2012-02-27' '2012-02-28' '2012-02-29'\n",
            " '2012-03-01' '2012-03-02' '2012-03-03' '2012-03-04' '2012-03-05'\n",
            " '2012-03-06' '2012-03-07' '2012-03-08' '2012-03-09' '2012-03-10'\n",
            " '2012-03-11' '2012-03-12' '2012-03-13' '2012-03-14' '2012-03-15'\n",
            " '2012-03-16' '2012-03-17' '2012-03-18' '2012-03-19' '2012-03-20'\n",
            " '2012-03-21' '2012-03-22' '2012-03-23' '2012-03-24' '2012-03-25'\n",
            " '2012-03-26' '2012-03-27' '2012-03-28' '2012-03-29' '2012-03-30'\n",
            " '2012-03-31' '2012-04-01' '2012-04-02' '2012-04-03' '2012-04-04'\n",
            " '2012-04-05' '2012-04-06' '2012-04-07' '2012-04-08' '2012-04-09'\n",
            " '2012-04-10' '2012-04-11' '2012-04-12' '2012-04-13' '2012-04-14'\n",
            " '2012-04-15' '2012-04-16' '2012-04-17' '2012-04-18' '2012-04-19'\n",
            " '2012-04-20' '2012-04-21' '2012-04-22' '2012-04-23' '2012-04-24'\n",
            " '2012-04-25' '2012-04-26' '2012-04-27' '2012-04-28' '2012-04-29'\n",
            " '2012-04-30' '2012-05-01' '2012-05-02' '2012-05-03' '2012-05-04'\n",
            " '2012-05-05' '2012-05-06' '2012-05-07' '2012-05-08' '2012-05-09'\n",
            " '2012-05-10' '2012-05-11' '2012-05-12' '2012-05-13' '2012-05-14'\n",
            " '2012-05-15' '2012-05-16' '2012-05-17' '2012-05-18' '2012-05-19'\n",
            " '2012-05-20' '2012-05-21' '2012-05-22' '2012-05-23' '2012-05-24'\n",
            " '2012-05-25' '2012-05-26' '2012-05-27' '2012-05-28' '2012-05-29'\n",
            " '2012-05-30' '2012-05-31' '2012-06-01' '2012-06-02' '2012-06-03'\n",
            " '2012-06-04' '2012-06-05' '2012-06-06' '2012-06-07' '2012-06-08'\n",
            " '2012-06-09' '2012-06-10' '2012-06-11' '2012-06-12' '2012-06-13'\n",
            " '2012-06-14' '2012-06-15' '2012-06-16' '2012-06-17' '2012-06-18'\n",
            " '2012-06-19' '2012-06-20' '2012-06-21' '2012-06-22' '2012-06-23'\n",
            " '2012-06-24' '2012-06-25' '2012-06-26' '2012-06-27' '2012-06-28'\n",
            " '2012-06-29' '2012-06-30' '2012-07-01' '2012-07-02' '2012-07-03'\n",
            " '2012-07-04' '2012-07-05' '2012-07-06' '2012-07-07' '2012-07-08'\n",
            " '2012-07-09' '2012-07-10' '2012-07-11' '2012-07-12' '2012-07-13'\n",
            " '2012-07-14' '2012-07-15' '2012-07-16' '2012-07-17' '2012-07-18'\n",
            " '2012-07-19' '2012-07-20' '2012-07-21' '2012-07-22' '2012-07-23'\n",
            " '2012-07-24' '2012-07-25' '2012-07-26' '2012-07-27' '2012-07-28'\n",
            " '2012-07-29' '2012-07-30' '2012-07-31' '2012-08-01' '2012-08-02'\n",
            " '2012-08-03' '2012-08-04' '2012-08-05' '2012-08-06' '2012-08-07'\n",
            " '2012-08-08' '2012-08-09' '2012-08-10' '2012-08-11' '2012-08-12'\n",
            " '2012-08-13' '2012-08-14' '2012-08-15' '2012-08-16' '2012-08-17'\n",
            " '2012-08-18' '2012-08-19' '2012-08-20' '2012-08-21' '2012-08-22'\n",
            " '2012-08-23' '2012-08-24' '2012-08-25' '2012-08-26' '2012-08-27'\n",
            " '2012-08-28' '2012-08-29' '2012-08-30' '2012-08-31' '2012-09-01'\n",
            " '2012-09-02' '2012-09-03' '2012-09-04' '2012-09-05' '2012-09-06'\n",
            " '2012-09-07' '2012-09-08' '2012-09-09' '2012-09-10' '2012-09-11'\n",
            " '2012-09-12' '2012-09-13' '2012-09-14' '2012-09-15' '2012-09-16'\n",
            " '2012-09-17' '2012-09-18' '2012-09-19' '2012-09-20' '2012-09-21'\n",
            " '2012-09-22' '2012-09-23' '2012-09-24' '2012-09-25' '2012-09-26'\n",
            " '2012-09-27' '2012-09-28' '2012-09-29' '2012-09-30' '2012-10-01'\n",
            " '2012-10-02' '2012-10-03' '2012-10-04' '2012-10-05' '2012-10-06'\n",
            " '2012-10-07' '2012-10-08' '2012-10-09' '2012-10-10' '2012-10-11'\n",
            " '2012-10-12' '2012-10-13' '2012-10-14' '2012-10-15' '2012-10-16'\n",
            " '2012-10-17' '2012-10-18' '2012-10-19' '2012-10-20' '2012-10-21'\n",
            " '2012-10-22' '2012-10-23' '2012-10-24' '2012-10-25' '2012-10-26'\n",
            " '2012-10-27' '2012-10-28' '2012-10-29' '2012-10-30' '2012-10-31'\n",
            " '2012-11-01' '2012-11-02' '2012-11-03' '2012-11-04' '2012-11-05'\n",
            " '2012-11-06' '2012-11-07' '2012-11-08' '2012-11-09' '2012-11-10'\n",
            " '2012-11-11' '2012-11-12' '2012-11-13' '2012-11-14' '2012-11-15'\n",
            " '2012-11-16' '2012-11-17' '2012-11-18' '2012-11-19' '2012-11-20'\n",
            " '2012-11-21' '2012-11-22' '2012-11-23' '2012-11-24' '2012-11-25'\n",
            " '2012-11-26' '2012-11-27' '2012-11-28' '2012-11-29' '2012-11-30'\n",
            " '2012-12-01' '2012-12-02' '2012-12-03' '2012-12-04' '2012-12-05'\n",
            " '2012-12-06' '2012-12-07' '2012-12-08' '2012-12-09' '2012-12-10'\n",
            " '2012-12-11' '2012-12-12' '2012-12-13' '2012-12-14' '2012-12-15'\n",
            " '2012-12-16' '2012-12-17' '2012-12-18' '2012-12-19' '2012-12-20'\n",
            " '2012-12-21' '2012-12-22' '2012-12-23' '2012-12-24' '2012-12-25'\n",
            " '2012-12-26' '2012-12-27' '2012-12-28' '2012-12-29' '2012-12-30'\n",
            " '2012-12-31' '0.68']\n"
          ]
        }
      ]
    },
    {
      "cell_type": "markdown",
      "source": [
        "**Insight:**\n",
        "- Kolom dteday berhasil diubah menjadi format datetime untuk kedua dataset.\n",
        "- Data siap untuk eksplorasi lebih lanjut."
      ],
      "metadata": {
        "id": "Q_5ejIqckiSP"
      }
    },
    {
      "cell_type": "markdown",
      "metadata": {
        "id": "gp-Y6wU38DC1"
      },
      "source": [
        "## Exploratory Data Analysis (EDA)"
      ]
    },
    {
      "cell_type": "markdown",
      "metadata": {
        "id": "MW7WF2kr8DC1"
      },
      "source": [
        "### Explore ..."
      ]
    },
    {
      "cell_type": "code",
      "execution_count": 7,
      "metadata": {
        "id": "e9CQCZjk8DC2",
        "outputId": "921065ae-21e8-43f3-ad8c-8374daa36e2b",
        "colab": {
          "base_uri": "https://localhost:8080/",
          "height": 472
        }
      },
      "outputs": [
        {
          "output_type": "display_data",
          "data": {
            "text/plain": [
              "<Figure size 640x480 with 1 Axes>"
            ],
            "image/png": "[encoded data removed]"
          },
          "metadata": {}
        }
      ],
      "source": [
        "# Summary statistics for day and hour datasets\n",
        "day_df.describe()\n",
        "hour_df.describe()\n",
        "\n",
        "# Visualizing the distribution of total bike rentals in the daily dataset\n",
        "sns.histplot(day_df['cnt'], kde=True)\n",
        "plt.title('Distribusi Jumlah Peminjaman Sepeda Harian')\n",
        "plt.xlabel('Jumlah Peminjaman')\n",
        "plt.ylabel('Frekuensi')\n",
        "plt.show()\n"
      ]
    },
    {
      "cell_type": "markdown",
      "source": [
        "**Insight:**\n",
        "- Sebagian besar peminjaman sepeda terjadi dalam rentang tertentu yang dapat diamati dari distribusi."
      ],
      "metadata": {
        "id": "th_Lzl2Fkj9O"
      }
    },
    {
      "cell_type": "markdown",
      "metadata": {
        "id": "zsyZjqak8DC2"
      },
      "source": [
        "## Visualization & Explanatory Analysis"
      ]
    },
    {
      "cell_type": "markdown",
      "metadata": {
        "id": "HZxOiQ6n8DC2"
      },
      "source": [
        "### Pertanyaan 1:"
      ]
    },
    {
      "cell_type": "code",
      "execution_count": 8,
      "metadata": {
        "id": "1swJUdAD8DC2",
        "outputId": "213b6358-bbac-4542-b458-058497560c33",
        "colab": {
          "base_uri": "https://localhost:8080/",
          "height": 527
        }
      },
      "outputs": [
        {
          "output_type": "stream",
          "name": "stderr",
          "text": [
            "/usr/local/lib/python3.10/dist-packages/seaborn/categorical.py:640: FutureWarning: SeriesGroupBy.grouper is deprecated and will be removed in a future version of pandas.\n",
            "  positions = grouped.grouper.result_index.to_numpy(dtype=float)\n"
          ]
        },
        {
          "output_type": "display_data",
          "data": {
            "text/plain": [
              "<Figure size 640x480 with 1 Axes>"
            ],
            "image/png": "[encoded data removed]"
          },
          "metadata": {}
        }
      ],
      "source": [
        "# Analyzing the effect of weather on daily bike rentals\n",
        "sns.boxplot(x='weathersit', y='cnt', data=day_df)\n",
        "plt.title('Pengaruh Cuaca terhadap Jumlah Peminjaman Sepeda Harian')\n",
        "plt.xlabel('Kondisi Cuaca')\n",
        "plt.ylabel('Jumlah Peminjaman')\n",
        "plt.show()\n"
      ]
    },
    {
      "cell_type": "markdown",
      "metadata": {
        "id": "DgHI7CiU8DC2"
      },
      "source": [
        "### Pertanyaan 2:"
      ]
    },
    {
      "cell_type": "code",
      "execution_count": 10,
      "metadata": {
        "id": "Go0lCsvO8DC2",
        "outputId": "d66fc615-bd83-4285-d197-5e596c7610ae",
        "colab": {
          "base_uri": "https://localhost:8080/",
          "height": 472
        }
      },
      "outputs": [
        {
          "output_type": "display_data",
          "data": {
            "text/plain": [
              "<Figure size 640x480 with 1 Axes>"
            ],
            "image/png": "[encoded data removed]"
          },
          "metadata": {}
        }
      ],
      "source": [
        "# Analyzing hourly rental patterns\n",
        "# Select only numeric columns for aggregation\n",
        "hourly_avg = hour_df.groupby('hr').mean(numeric_only=True).reset_index()\n",
        "\n",
        "# Plotting the hourly rental patterns\n",
        "sns.lineplot(x='hr', y='cnt', data=hourly_avg)\n",
        "plt.title('Pola Peminjaman Sepeda pada Berbagai Jam dalam Sehari')\n",
        "plt.xlabel('Jam')\n",
        "plt.ylabel('Rata-rata Jumlah Peminjaman')\n",
        "plt.show()"
      ]
    },
    {
      "cell_type": "markdown",
      "source": [
        "**Insight:**\n",
        "- Pertanyaan 1: Kondisi cuaca berpengaruh terhadap jumlah peminjaman, di mana cuaca yang lebih baik cenderung meningkatkan jumlah peminjaman.\n",
        "- Pertanyaan 2: Ada pola penggunaan sepeda yang meningkat pada jam-jam sibuk seperti pagi dan sore hari."
      ],
      "metadata": {
        "id": "_0-36BDLklRg"
      }
    },
    {
      "cell_type": "markdown",
      "source": [
        "## Analisis Lanjutan (Opsional)"
      ],
      "metadata": {
        "id": "9y4VUsmcYNZ5"
      }
    },
    {
      "cell_type": "code",
      "source": [],
      "metadata": {
        "id": "iWhnzsJGYUCO"
      },
      "execution_count": null,
      "outputs": []
    },
    {
      "cell_type": "markdown",
      "metadata": {
        "id": "_WeHlCeX8DC2"
      },
      "source": [
        "## Conclusion"
      ]
    },
    {
      "cell_type": "markdown",
      "metadata": {
        "id": "ZTcyR48Y8DC2"
      },
      "source": [
        "- Conclution pertanyaan 1: Kondisi cuaca sangat mempengaruhi jumlah peminjaman sepeda. Cuaca cerah meningkatkan peminjaman, sedangkan cuaca buruk menurunkannya.\n",
        "\n",
        "- Conclution pertanyaan 2: Peminjaman sepeda memiliki pola yang jelas, dengan puncak terjadi pada jam sibuk pagi dan sore hari, menunjukkan penggunaan untuk perjalanan kerja atau sekolah."
      ]
    }
  ],
  "metadata": {
    "kernelspec": {
      "display_name": "Python 3",
      "language": "python",
      "name": "python3"
    },
    "language_info": {
      "name": "python",
      "version": "3.8.0 (tags/v3.8.0:fa919fd, Oct 14 2019, 19:21:23) [MSC v.1916 32 bit (Intel)]"
    },
    "orig_nbformat": 4,
    "vscode": {
      "interpreter": {
        "hash": "972b3bf27e332e87b5379f2791f6ef9dfc79c71018c370b0d7423235e20fe4d7"
      }
    },
    "colab": {
      "provenance": [],
      "include_colab_link": true
    }
  },
  "nbformat": 4,
  "nbformat_minor": 0
}